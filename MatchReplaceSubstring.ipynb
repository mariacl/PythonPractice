{
 "cells": [
  {
   "cell_type": "code",
   "execution_count": 1,
   "metadata": {},
   "outputs": [],
   "source": [
    "import re"
   ]
  },
  {
   "cell_type": "code",
   "execution_count": 2,
   "metadata": {},
   "outputs": [],
   "source": [
    "url = \"en-us/.*html\""
   ]
  },
  {
   "cell_type": "code",
   "execution_count": 6,
   "metadata": {},
   "outputs": [
    {
     "name": "stdout",
     "output_type": "stream",
     "text": [
      "Found pattern\n"
     ]
    }
   ],
   "source": [
    "if re.search(url, \"esto es una url como la que queremos encontrar: /en-us/unaCarpeta/unapaginaweb.html\"): print (\"Found pattern\")"
   ]
  },
  {
   "cell_type": "code",
   "execution_count": 11,
   "metadata": {},
   "outputs": [
    {
     "name": "stdout",
     "output_type": "stream",
     "text": [
      "Not found\n"
     ]
    }
   ],
   "source": [
    "if re.search(url, \"esto es una url de una imagen, que no coincide con el patrón regex: /en-us/tralala/blabla/imagen.png\"):\n",
    "    print (\"Found pattern\")\n",
    "else:\n",
    "    print (\"Not found\")\n",
    "        "
   ]
  },
  {
   "cell_type": "code",
   "execution_count": 15,
   "metadata": {},
   "outputs": [
    {
     "name": "stdout",
     "output_type": "stream",
     "text": [
      "/de-de/blablabla.html\n",
      "/de-de/dontfindme.jpg\n"
     ]
    }
   ],
   "source": [
    "inputgood = \"/en-us/blablabla.html\"\n",
    "inputbad = \"/en-us/dontfindme.jpg\"\n",
    "\n",
    "resultgood = re.sub('en-us',  'de-de', inputgood)\n",
    "print (resultgood)\n",
    "resultbad = re.sub('en-us',  'de-de', inputbad)\n",
    "print (resultbad)"
   ]
  },
  {
   "cell_type": "code",
   "execution_count": 24,
   "metadata": {},
   "outputs": [
    {
     "name": "stdout",
     "output_type": "stream",
     "text": [
      "<_sre.SRE_Match object; span=(1, 32), match='de-de/blablabla/blablapage.html'>\n",
      "<_sre.SRE_Match object; span=(1, 32), match='de-de/blablabla/blablapage.html'>\n",
      "<_sre.SRE_Match object; span=(1, 32), match='de-de/blablabla/blablapage.html'>\n"
     ]
    }
   ],
   "source": [
    "with open('sample.txt') as thefile:\n",
    "    for line in thefile:\n",
    "        if re.search('en-us/.*html', line):\n",
    "            matchSub = re.sub('en-us', 'de-de', str(match))\n",
    "            print (matchSub)"
   ]
  },
  {
   "cell_type": "code",
   "execution_count": 22,
   "metadata": {},
   "outputs": [],
   "source": [
    "# this works but output file has to exist first, otherwise it just creates the empty file. Second run, it gets populated\n",
    "input_file = open(\"sample.txt\", \"r\")\n",
    "output_file = open(\"output3.txt\", \"w\")\n",
    "for line in input_file:\n",
    "    match = re.search('en-us/.*html', line) # en-us html strings\n",
    "    if match:\n",
    "        replaced = re.sub('en-us','de-de', line)\n",
    "        output_file.write(replaced)\n",
    "    else:\n",
    "        output_file.write(line)\n",
    "    "
   ]
  },
  {
   "cell_type": "code",
   "execution_count": 33,
   "metadata": {},
   "outputs": [],
   "source": [
    "# this works - we put the regex in a variable with re.compile to and the replacement substring in a strign variable\n",
    "import re\n",
    "input_file = open(\"sample.txt\", \"r\")\n",
    "output_file = open(\"output15.txt\", \"w\")\n",
    "\n",
    "lookfor = re.compile('en-us/.*html') # string pattern we are looking for. If you want the level separator / you need to include it, because .* won't match it.\n",
    "replacewith = 'fr-fr' #substring replacement\n",
    "\n",
    "for line in input_file:\n",
    "    match = re.search(lookfor, line) # we put en-us html finds in a variable\n",
    "    if match:\n",
    "        replaced = re.sub('en-us', replacewith, line) # make ths substitution on found matches\n",
    "        output_file.write(replaced) # write line with the replacement\n",
    "    else:\n",
    "        output_file.write(line) # write any other no matching lines"
   ]
  },
  {
   "cell_type": "code",
   "execution_count": 32,
   "metadata": {},
   "outputs": [],
   "source": [
    "# Next: create a def function and a UI to enter input and output files,and enter regex and replacement strings\n",
    "\n",
    "import re\n",
    "\n",
    "def replace (inputf, outputf, reg, subst):\n",
    "    \n",
    "    input_file = open(inputf, \"r\")\n",
    "    output_file = open(outputf, \"w\")\n",
    "\n",
    "    lookfor = re.compile(reg) # string pattern we are looking for. If you want the level separator / you need to include it, because .* won't match it.\n",
    "    replacewith = subst #substring replacement\n",
    "\n",
    "    for line in input_file:\n",
    "        match = re.search(lookfor, line) # we put en-us html finds in a variable\n",
    "        if match:\n",
    "            replaced = re.sub('en-us', replacewith, line) # make ths substitution on found matches\n",
    "            output_file.write(replaced) # write line with the replacement\n",
    "        else:\n",
    "            output_file.write(line) # write any other no matching lines"
   ]
  },
  {
   "cell_type": "code",
   "execution_count": null,
   "metadata": {},
   "outputs": [],
   "source": []
  }
 ],
 "metadata": {
  "kernelspec": {
   "display_name": "Python 3",
   "language": "python",
   "name": "python3"
  },
  "language_info": {
   "codemirror_mode": {
    "name": "ipython",
    "version": 3
   },
   "file_extension": ".py",
   "mimetype": "text/x-python",
   "name": "python",
   "nbconvert_exporter": "python",
   "pygments_lexer": "ipython3",
   "version": "3.6.5"
  }
 },
 "nbformat": 4,
 "nbformat_minor": 2
}
